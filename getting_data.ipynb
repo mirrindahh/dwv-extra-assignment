{
  "nbformat": 4,
  "nbformat_minor": 0,
  "metadata": {
    "colab": {
      "provenance": []
    },
    "kernelspec": {
      "name": "python3",
      "display_name": "Python 3"
    },
    "language_info": {
      "name": "python"
    }
  },
  "cells": [
    {
      "cell_type": "code",
      "execution_count": 1,
      "metadata": {
        "colab": {
          "base_uri": "https://localhost:8080/"
        },
        "id": "cxe3xyoGSxkZ",
        "outputId": "2472d358-6834-45e0-8c8b-0818180b4028"
      },
      "outputs": [
        {
          "output_type": "stream",
          "name": "stdout",
          "text": [
            "Requirement already satisfied: requests in /usr/local/lib/python3.11/dist-packages (2.32.3)\n",
            "Requirement already satisfied: charset-normalizer<4,>=2 in /usr/local/lib/python3.11/dist-packages (from requests) (3.4.1)\n",
            "Requirement already satisfied: idna<4,>=2.5 in /usr/local/lib/python3.11/dist-packages (from requests) (3.10)\n",
            "Requirement already satisfied: urllib3<3,>=1.21.1 in /usr/local/lib/python3.11/dist-packages (from requests) (2.4.0)\n",
            "Requirement already satisfied: certifi>=2017.4.17 in /usr/local/lib/python3.11/dist-packages (from requests) (2025.4.26)\n"
          ]
        }
      ],
      "source": [
        "!pip install requests\n"
      ]
    },
    {
      "cell_type": "code",
      "source": [
        "import requests\n",
        "import json\n",
        "import time\n",
        "\n",
        "BASE_URL = 'https://api.hh.ru/vacancies'\n",
        "params = {\n",
        "    'text': 'sales consultant',\n",
        "    'area': 88,    # Region code (Kazan)\n",
        "    'per_page': 100,    # Maximum 100 vacancies at a time\n",
        "    'page': 0    # Page number\n",
        "}\n",
        "\n",
        "all_vacancies = []\n",
        "\n",
        "\n",
        "while True:\n",
        "    print(f\"Fetching page {params['page']}...\")\n",
        "    response = requests.get(BASE_URL, params=params)\n",
        "\n",
        "    if response.status_code != 200:\n",
        "        print(f\"Request error: {response.status_code}\")\n",
        "        break\n",
        "\n",
        "    data = response.json()\n",
        "    items = data.get('items', [])\n",
        "\n",
        "    if not items:\n",
        "        print(\"No more vacancies found\")\n",
        "        break\n",
        "\n",
        "    all_vacancies.extend(items)\n",
        "\n",
        "    # Check if we've reached the last page\n",
        "    if params['page'] >= data['pages'] - 1:\n",
        "        break\n",
        "\n",
        "    params['page'] += 1\n",
        "    time.sleep(0.5)  # Pause to avoid overloading the API\n",
        "\n",
        "# Save complete vacancies\n",
        "with open('vacancies.json', 'w', encoding='utf-8') as f:\n",
        "    json.dump(all_vacancies, f, ensure_ascii=False, indent=2)\n",
        "\n",
        "print(f\"Saved {len(all_vacancies)} vacancies to vacancies.json\")"
      ],
      "metadata": {
        "colab": {
          "base_uri": "https://localhost:8080/"
        },
        "id": "MCWSKGX2S0NR",
        "outputId": "4b6e4d85-9fd5-4ae7-d390-0b2035f7b8bb"
      },
      "execution_count": 2,
      "outputs": [
        {
          "output_type": "stream",
          "name": "stdout",
          "text": [
            "Fetching page 0...\n",
            "Saved 3 vacancies to vacancies.json\n"
          ]
        }
      ]
    },
    {
      "cell_type": "code",
      "source": [
        "import json\n",
        "\n",
        "# Load original file\n",
        "with open('vacancies.json', 'r', encoding='utf-8') as f:\n",
        "    data = json.load(f)\n",
        "\n",
        "# Extract necessary info\n",
        "cleaned = []\n",
        "\n",
        "for vac in data:\n",
        "    cleaned.append({\n",
        "        'title': vac.get('name'),\n",
        "        'salary': None if not vac.get('salary') else {\n",
        "            'from': vac['salary'].get('from'),\n",
        "            'to': vac['salary'].get('to'),\n",
        "            'currency': vac['salary'].get('currency')\n",
        "        },\n",
        "        'working_hours': [w.get('name') for w in vac.get('working_time_intervals', [])],\n",
        "        'schedule': [s.get('name') for s in vac.get('work_schedule', [])],\n",
        "        'experience': vac.get('experience', {}).get('name')\n",
        "    })\n",
        "\n",
        "# Save to new JSON\n",
        "with open('vacancies_cleaned.json', 'w', encoding='utf-8') as f:\n",
        "    json.dump(cleaned, f, ensure_ascii=False, indent=2)\n",
        "\n",
        "print(f\"Saved {len(cleaned)} vacancies to vacancies_cleaned.json\")\n"
      ],
      "metadata": {
        "colab": {
          "base_uri": "https://localhost:8080/"
        },
        "id": "eyhwwb_oUnOa",
        "outputId": "dc8acdc7-8bd1-4c9a-b49f-356a23e049e5"
      },
      "execution_count": 3,
      "outputs": [
        {
          "output_type": "stream",
          "name": "stdout",
          "text": [
            "Saved 3 vacancies to vacancies_cleaned.json\n"
          ]
        }
      ]
    },
    {
      "cell_type": "code",
      "source": [
        "import json\n",
        "import re\n",
        "\n",
        "# Load data\n",
        "with open('vacancies_cleaned.json', 'r', encoding='utf-8') as f:\n",
        "    data = json.load(f)\n",
        "\n",
        "# Update each vacancy\n",
        "for vac in data:\n",
        "    hours = []\n",
        "    for h in vac.get('working_hours', []):\n",
        "        match = re.search(r'\\d+', h)\n",
        "        if match:\n",
        "            hours.append(int(match.group()))\n",
        "    vac['working_hours'] = hours\n",
        "\n",
        "    exp = vac.get('experience')\n",
        "    if exp:\n",
        "        if 'Нет опыта' in exp:\n",
        "            vac['experience'] = 'no experience'\n",
        "        else:\n",
        "            years = re.findall(r'\\d+', exp)\n",
        "            if len(years) == 2:\n",
        "                vac['experience'] = f'{years[0]}-{years[1]} years'\n",
        "            elif len(years) == 1:\n",
        "                vac['experience'] = f'{years[0]}+ years'\n",
        "\n",
        "# Save result\n",
        "with open('vacancies_final.json', 'w', encoding='utf-8') as f:\n",
        "    json.dump(data, f, ensure_ascii=False, indent=2)\n",
        "\n",
        "print(f\"{len(data)} vacancies saved to vacancies_final.json\")"
      ],
      "metadata": {
        "id": "KVxJmPSXVZQm",
        "outputId": "a3b8200c-b420-4e52-e39b-22ce0e701f01",
        "colab": {
          "base_uri": "https://localhost:8080/"
        }
      },
      "execution_count": 4,
      "outputs": [
        {
          "output_type": "stream",
          "name": "stdout",
          "text": [
            "3 vacancies saved to vacancies_final.json\n"
          ]
        }
      ]
    }
  ]
}